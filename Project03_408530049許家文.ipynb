{
 "cells": [
  {
   "cell_type": "code",
   "execution_count": 1,
   "metadata": {},
   "outputs": [],
   "source": [
    "import numpy as np\n",
    "from numpy import linalg as LA\n",
    "def getMatrixDeternminant2(m):\n",
    "    #base case for 2x2 matrix\n",
    "    if len(m) == 2:\n",
    "        return m[0][0]*m[1][1]-m[0][1]*m[1][0]\n",
    "\n",
    "    determinant = 0\n",
    "    for c in range(len(m)):\n",
    "        determinant += ((-1)**c)*m[0][c]*getMatrixDeternminant2(getMatrixMinor2(m,0,c))\n",
    "    return determinant\n",
    "\n",
    "def getMatrixMinor2(arr,i,j):\n",
    "    # ith row, jth column removed\n",
    "    return arr[np.array(list(range(i))+list(range(i+1,arr.shape[0])))[:,np.newaxis],\n",
    "               np.array(list(range(j))+list(range(j+1,arr.shape[1])))]\n",
    "\n",
    "def getMatrixInverse2(m):\n",
    "    determinant = getMatrixDeternminant2(m)\n",
    "#     special case for 2x2 matrix:\n",
    "    if len(m) == 2:\n",
    "        return [[m[1][1]/determinant, -1*m[0][1]/determinant],\n",
    "                [-1*m[1][0]/determinant, m[0][0]/determinant]]\n",
    "\n",
    "#   find matrix of cofactors:\n",
    "    cofactors=np.zeros((len(m),len(m[0])), dtype=float)\n",
    "    for r in range(len(m)):\n",
    "        for c in range(len(m)):\n",
    "            minor = getMatrixMinor2(m,r,c)\n",
    "            cofactors[r][c]=(((-1)**(r+c)) * getMatrixDeternminant2(minor))\n",
    "#   transpose cofactor=>adj\n",
    "    checked=np.zeros((len(m),len(m[0])), dtype=int)\n",
    "    for i in range(len(m)):\n",
    "        for j in range(len(m)):\n",
    "            if(checked[i][j]==0 & i!=j):\n",
    "                temp=cofactors[i][j]\n",
    "                cofactors[i][j]=cofactors[j][i]\n",
    "                cofactors[j][i]=temp\n",
    "                checked[i][j]=1\n",
    "                checked[j][i]=1\n",
    "#   adj*det**(-1)\n",
    "    for r in range(len(cofactors)):\n",
    "        for c in range(len(cofactors)):\n",
    "            cofactors[r][c] = cofactors[r][c]/determinant\n",
    "\n",
    "    return cofactors"
   ]
  },
  {
   "cell_type": "code",
   "execution_count": 5,
   "metadata": {},
   "outputs": [
    {
     "name": "stdout",
     "output_type": "stream",
     "text": [
      "λ=2.8284271247461894 p1=[-0.15622986  0.68963195 -0.37717224 -0.59811462]\n",
      "λ=2.236067977499789 p2=[ 0.69455348 -0.13264791  0.42925766  0.56190557]\n",
      "λ=-2.828427124746192 p3=[-0.37717224  0.59811462  0.15622986  0.68963195]\n",
      "λ=-2.23606797749979 p4=[ 0.42925766 -0.56190557 -0.69455348 -0.13264791]\n",
      "\n",
      "P= [[-0.15622986  0.69455348 -0.37717224  0.42925766]\n",
      " [ 0.68963195 -0.13264791  0.59811462 -0.56190557]\n",
      " [-0.37717224  0.42925766  0.15622986 -0.69455348]\n",
      " [-0.59811462  0.56190557  0.68963195 -0.13264791]]\n"
     ]
    }
   ],
   "source": [
    "arr = np.array([[1,1,1,1],[2,1,-1,-2],[1,-1,-1,1],[1,-2,2,-1]])\n",
    "w, p = LA.eig(arr)\n",
    "for i in range(len(w)):\n",
    "    print(\"\\u03BB={eigenvelue} p{key}={eigenvector}\".format(eigenvelue=w[i],key=i+1,eigenvector=p[:,i]))\n",
    "print('\\nP=',p)"
   ]
  },
  {
   "cell_type": "code",
   "execution_count": 3,
   "metadata": {},
   "outputs": [
    {
     "name": "stdout",
     "output_type": "stream",
     "text": [
      "P^(-1)= [[ 0.75434448  1.06680419 -0.31245971 -0.44188477]\n",
      " [ 1.25645904  0.56190557  0.29660975  0.13264791]\n",
      " [-0.31245971  0.44188477 -0.75434448  1.06680419]\n",
      " [ 0.29660975 -0.13264791 -1.25645904  0.56190557]]\n"
     ]
    }
   ],
   "source": [
    "p_inverse=getMatrixInverse2(p)\n",
    "print(\"P^(-1)=\",p_inverse)"
   ]
  },
  {
   "cell_type": "code",
   "execution_count": 9,
   "metadata": {},
   "outputs": [
    {
     "name": "stdout",
     "output_type": "stream",
     "text": [
      "D= [[ 2.82843  0.       0.       0.     ]\n",
      " [ 0.       2.23607  0.       0.     ]\n",
      " [ 0.       0.      -2.82843  0.     ]\n",
      " [ 0.       0.       0.      -2.23607]]\n",
      "A^100= [[ 8.88151388e+34 -4.75749231e+44  4.75749231e+44 -4.75749231e+44]\n",
      " [ 4.75749231e+44  1.42724769e+45 -9.51498462e+44  4.75749231e+44]\n",
      " [-4.75749231e+44 -4.75749231e+44  8.88203058e+34  4.75749231e+44]\n",
      " [-9.51498462e+44 -4.75749231e+44 -4.75749231e+44  1.42724769e+45]]\n"
     ]
    }
   ],
   "source": [
    "D=np.dot(np.dot(p_inverse,arr),p)\n",
    "a=np.diag(D) #get D matrix's diagnal element\n",
    "D=np.diag(a) #transfer diagnal element to a new 4*4 matrix\n",
    "with np.printoptions(precision=5): \n",
    "    print(\"D=\",D)\n",
    "#--------------------------------------------#\n",
    "\n",
    "D_100=D\n",
    "for i in range(len(D_100)):\n",
    "    D_100[i][i]=pow(D_100[i][i],100)\n",
    "\n",
    "result=np.zeros((4,4), dtype=float)\n",
    "for i in range(4):\n",
    "    for j in range(4):\n",
    "        for k in range(4):\n",
    "            result[i][j] += p[i][k] * D_100[k][j]\n",
    "#result=P mutilply D^100\n",
    "result2=np.zeros((4,4), dtype=float)\n",
    "for i in range(4):\n",
    "    for j in range(4):\n",
    "        for k in range(4):\n",
    "            result2[i][j] += result[i][k] * p_inverse[k][j]\n",
    "#result2=P mutilply D^100 result mutilply P_inverse\n",
    "print(\"A^100=\",result2)"
   ]
  },
  {
   "cell_type": "code",
   "execution_count": 6,
   "metadata": {},
   "outputs": [
    {
     "ename": "NameError",
     "evalue": "name 'array' is not defined",
     "output_type": "error",
     "traceback": [
      "\u001b[1;31m---------------------------------------------------------------------------\u001b[0m",
      "\u001b[1;31mNameError\u001b[0m                                 Traceback (most recent call last)",
      "\u001b[1;32m<ipython-input-6-441ac73d67d3>\u001b[0m in \u001b[0;36m<module>\u001b[1;34m\u001b[0m\n\u001b[1;32m----> 1\u001b[1;33m \u001b[0mfirst_and_third_column\u001b[0m \u001b[1;33m=\u001b[0m \u001b[0marray\u001b[0m\u001b[1;33m[\u001b[0m\u001b[1;33m:\u001b[0m\u001b[1;33m,\u001b[0m \u001b[1;33m[\u001b[0m\u001b[1;36m0\u001b[0m\u001b[1;33m,\u001b[0m \u001b[1;36m2\u001b[0m\u001b[1;33m]\u001b[0m\u001b[1;33m]\u001b[0m\u001b[1;33m\u001b[0m\u001b[1;33m\u001b[0m\u001b[0m\n\u001b[0m",
      "\u001b[1;31mNameError\u001b[0m: name 'array' is not defined"
     ]
    }
   ],
   "source": []
  },
  {
   "cell_type": "code",
   "execution_count": null,
   "metadata": {},
   "outputs": [],
   "source": []
  }
 ],
 "metadata": {
  "kernelspec": {
   "display_name": "Python 3",
   "language": "python",
   "name": "python3"
  },
  "language_info": {
   "codemirror_mode": {
    "name": "ipython",
    "version": 3
   },
   "file_extension": ".py",
   "mimetype": "text/x-python",
   "name": "python",
   "nbconvert_exporter": "python",
   "pygments_lexer": "ipython3",
   "version": "3.8.5"
  }
 },
 "nbformat": 4,
 "nbformat_minor": 2
}
