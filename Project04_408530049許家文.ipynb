{
 "cells": [
  {
   "cell_type": "code",
   "execution_count": 1,
   "metadata": {},
   "outputs": [],
   "source": [
    "import numpy as np\n",
    "from numpy import linalg as LA\n",
    "def getMatrixDeternminant2(m):\n",
    "    #base case for 2x2 matrix\n",
    "    if len(m) == 2:\n",
    "        return m[0][0]*m[1][1]-m[0][1]*m[1][0]\n",
    "\n",
    "    determinant = 0\n",
    "    for c in range(len(m)):\n",
    "        determinant += ((-1)**c)*m[0][c]*getMatrixDeternminant2(getMatrixMinor2(m,0,c))\n",
    "    return determinant\n",
    "\n",
    "def getMatrixMinor2(arr,i,j):\n",
    "    # ith row, jth column removed\n",
    "    return arr[np.array(list(range(i))+list(range(i+1,arr.shape[0])))[:,np.newaxis],\n",
    "               np.array(list(range(j))+list(range(j+1,arr.shape[1])))]\n",
    "\n",
    "def getMatrixInverse2(m):\n",
    "    determinant = getMatrixDeternminant2(m)\n",
    "#     special case for 2x2 matrix:\n",
    "    if len(m) == 2:\n",
    "        return [[m[1][1]/determinant, -1*m[0][1]/determinant],\n",
    "                [-1*m[1][0]/determinant, m[0][0]/determinant]]\n",
    "\n",
    "#   find matrix of cofactors:\n",
    "    cofactors=np.zeros((len(m),len(m[0])), dtype=float)\n",
    "    for r in range(len(m)):\n",
    "        for c in range(len(m)):\n",
    "            minor = getMatrixMinor2(m,r,c)\n",
    "            cofactors[r][c]=(((-1)**(r+c)) * getMatrixDeternminant2(minor))\n",
    "#   transpose cofactor=>adj\n",
    "    checked=np.zeros((len(m),len(m[0])), dtype=int)\n",
    "    for i in range(len(m)):\n",
    "        for j in range(len(m)):\n",
    "            if(checked[i][j]==0 & i!=j):\n",
    "                temp=cofactors[i][j]\n",
    "                cofactors[i][j]=cofactors[j][i]\n",
    "                cofactors[j][i]=temp\n",
    "                checked[i][j]=1\n",
    "                checked[j][i]=1\n",
    "#   adj*det**(-1)\n",
    "    for r in range(len(cofactors)):\n",
    "        for c in range(len(cofactors)):\n",
    "            cofactors[r][c] = cofactors[r][c]/determinant\n",
    "\n",
    "    return cofactors\n",
    "\n",
    "def IsLinearIndependent(m):\n",
    "    if(getMatrixDeternminant2(m)==0):\n",
    "        print(\"InputError : Matrix A must be linearly independent columns!\")\n",
    "\n",
    "def norm_square(k):\n",
    "    total=0.0\n",
    "    for i in range(len(k)):\n",
    "        total+=np.square(k[i])\n",
    "    return total\n",
    "    \n",
    "def inner_product(A,B):\n",
    "    for i in range(len(A)):\n",
    "        total+=A[i]*B[i]\n",
    "    return total\n",
    "\n",
    "def normalize(A):\n",
    "    for i in range(len(A[0])):\n",
    "        norm=np.linalg.norm(A[:, i])\n",
    "        A[:,i]/=norm\n",
    "    return A\n",
    "\n",
    "def gram_Schmidt(A):\n",
    "    n=A.shape[1]\n",
    "    for j in range(n):\n",
    "        ba=np.array(A[:,j])\n",
    "        for k in range(j):\n",
    "            A[:,j]=A[:,j]-(np.dot(A[:, k],ba)* A[:, k])/norm_square(A[:,k]) \n",
    "    return A\n",
    "\n",
    "def gram_Schmidt2(A):\n",
    "    n=A.shape[1]\n",
    "    a=np.array(A)\n",
    "    for j in range(n):\n",
    "        ba=np.array(a[:,j])\n",
    "        for k in range(j):\n",
    "            a[:,j]=a[:,j]-(np.dot(a[:, k],ba)* a[:, k])/norm_square(a[:,k]) \n",
    "    for i in range(len(a[0])):\n",
    "        column = a[:,i]\n",
    "        print(f'u{i} = ',column)\n",
    "    return A\n",
    "\n",
    "def QR_Decomposition(A):\n",
    "    ba=np.array(A)\n",
    "    q=np.array(normalize(gram_Schmidt(np.array(A))))\n",
    "#     q=np.zeros((3,3)) \n",
    "    r=np.zeros((len(A),len(A[0])))\n",
    "    print(\"\\nQ=\",q)\n",
    "    for i in range(len(A)):\n",
    "        for j in range(len(A[0])):\n",
    "            r[i][j]=np.dot(q[:,j],ba[:,i])\n",
    "    print(r)\n",
    "    print(\"\\nR=\")\n",
    "    for i in range(len(a[0])):\n",
    "        column = r[:,i]\n",
    "        print(column)"
   ]
  },
  {
   "cell_type": "code",
   "execution_count": 2,
   "metadata": {},
   "outputs": [
    {
     "name": "stdout",
     "output_type": "stream",
     "text": [
      ">Input the dimension of matrix A:\n",
      "3 4 \n",
      "\n",
      ">Input matrix A:\n",
      "2 -2 6 4\n",
      "2 -2 6 3\n",
      "5 5 15 2\n",
      "InputError : Matrix A must be linearly independent columns!\n"
     ]
    }
   ],
   "source": [
    "print(\">Input the dimension of matrix A:\")\n",
    "a,b = map(int,input().split())\n",
    "print(\"\\n>Input matrix A:\")\n",
    "list1=[]\n",
    "for i in range(a):\n",
    "    a = list(map(float,input().strip().split()))[:b]\n",
    "    list1.append(a)\n",
    "array= np.array(list1)\n",
    "\n",
    "IsLinearIndependent(array)"
   ]
  },
  {
   "cell_type": "code",
   "execution_count": 3,
   "metadata": {},
   "outputs": [
    {
     "name": "stdout",
     "output_type": "stream",
     "text": [
      ">Input the dimension of matrix A:\n",
      "3 3 \n",
      "\n",
      ">Input matrix A:\n",
      "1 0 0 \n",
      "1 1 0\n",
      "1 1 1\n",
      "\n",
      ">Column vectors of A :\n",
      "u0=[1. 1. 1.]\n",
      "u1=[0. 1. 1.]\n",
      "u2=[0. 0. 1.]\n"
     ]
    }
   ],
   "source": [
    "print(\">Input the dimension of matrix A:\")\n",
    "a,b = map(int,input().split())\n",
    "print(\"\\n>Input matrix A:\")\n",
    "list1=[]\n",
    "for i in range(a):\n",
    "    a = list(map(float,input().strip().split()))[:b]\n",
    "    list1.append(a)\n",
    "array= np.array(list1)\n",
    "# IsLinearIndependent(array)\n",
    "# -----------------------------------------------\n",
    "print(\"\\n>Column vectors of A :\")\n",
    "for i in range(len(array[0])):\n",
    "    column = array[:,i]\n",
    "    print('u{}={}' .format(i,column))"
   ]
  },
  {
   "cell_type": "code",
   "execution_count": 4,
   "metadata": {},
   "outputs": [
    {
     "name": "stdout",
     "output_type": "stream",
     "text": [
      "\n",
      ">Orthogonal basis :\n",
      "u1 =  [1. 1. 1.]\n",
      "u2 =  [-0.66666667  0.33333333  0.33333333]\n",
      "u3 =  [ 0.  -0.5  0.5]\n",
      "\n",
      ">Orthonormal basis :\n",
      "v1 =  [0.57735027 0.57735027 0.57735027]\n",
      "v2 =  [-0.81649658  0.40824829  0.40824829]\n",
      "v3 =  [ 0.         -0.70710678  0.70710678]\n",
      "\n",
      ">QR :\n",
      "Q= [[ 0.57735027 -0.81649658  0.        ]\n",
      " [ 0.57735027  0.40824829 -0.70710678]\n",
      " [ 0.57735027  0.40824829  0.70710678]]\n",
      "\n",
      "R= [[1.73205081e+00 1.11022302e-16 0.00000000e+00]\n",
      " [1.15470054e+00 8.16496581e-01 0.00000000e+00]\n",
      " [5.77350269e-01 4.08248290e-01 7.07106781e-01]]\n"
     ]
    }
   ],
   "source": [
    "a=np.array(array)\n",
    "print(\"\\n>Orthogonal basis :\")\n",
    "gram_Schmidt(a)\n",
    "for i in range(len(a[0])):\n",
    "    column = a[:,i]\n",
    "    print(f'u{i+1} = ',column)\n",
    "\n",
    "print(\"\\n>Orthonormal basis :\")\n",
    "normalize(a)\n",
    "for i in range(len(a[0])):\n",
    "    column = a[:,i]\n",
    "    print(f'v{i+1} = ',column)\n",
    "\n",
    "a=np.array(array)    #reset array A\n",
    "Q=np.array(normalize(gram_Schmidt(np.array(a)))) #Q is orthonormal column vectors\n",
    "R=np.zeros((len(a),len(a[0]))) #define array r\n",
    "print(\"\\n>QR :\\nQ=\",Q)\n",
    "for i in range(len(a)): #\n",
    "    for j in range(len(a[0])):\n",
    "        R[i][j]=np.dot(Q[:,j],a[:,i])\n",
    "print(\"\\nR=\",R)"
   ]
  },
  {
   "cell_type": "code",
   "execution_count": 5,
   "metadata": {},
   "outputs": [
    {
     "name": "stdout",
     "output_type": "stream",
     "text": [
      "A =\n",
      " [[ 0.05719096 -0.66666667  0.        ]\n",
      " [ 1.06315623  0.0446582  -0.5       ]\n",
      " [ 1.87965281  0.62200847  0.5       ]]\n"
     ]
    }
   ],
   "source": [
    "print(\"A =\\n\",Q.dot(R))"
   ]
  },
  {
   "cell_type": "code",
   "execution_count": 7,
   "metadata": {},
   "outputs": [
    {
     "name": "stdout",
     "output_type": "stream",
     "text": [
      ">Input the dimension of matrix A:\n",
      "4 2\n",
      "\n",
      ">Input matrix A:\n",
      "-2 1\n",
      "2 -8\n",
      "1 0\n",
      "0 1\n",
      "\n",
      ">Column vectors of A :\n",
      "u0=[-2.  2.  1.  0.]\n",
      "u1=[ 1. -8.  0.  1.]\n",
      "\n",
      ">Orthogonal basis :\n",
      "u1 =  [-2.  2.  1.  0.]\n",
      "u2 =  [-3. -4.  2.  1.]\n",
      "\n",
      ">Orthonormal basis :\n",
      "v1 =  [-0.66666667  0.66666667  0.33333333  0.        ]\n",
      "v2 =  [-0.54772256 -0.73029674  0.36514837  0.18257419]\n",
      "\n",
      ">QR :\n",
      "Q= [[-0.66666667 -0.54772256]\n",
      " [ 0.66666667 -0.73029674]\n",
      " [ 0.33333333  0.36514837]\n",
      " [ 0.          0.18257419]]\n",
      "\n",
      "R= [[ 3.         -6.        ]\n",
      " [ 0.          5.47722558]]\n"
     ]
    }
   ],
   "source": [
    "print(\">Input the dimension of matrix A:\")\n",
    "a,b = map(int,input().split())\n",
    "print(\"\\n>Input matrix A:\")\n",
    "list1=[]\n",
    "for i in range(a):\n",
    "    a = list(map(float,input().strip().split()))[:b]\n",
    "    list1.append(a)\n",
    "array2= np.array(list1)\n",
    "# IsLinearIndependent(array)\n",
    "# ------------------------------------------------------------------------\n",
    "print(\"\\n>Column vectors of A :\")\n",
    "for i in range(len(array2[0])):\n",
    "    column = array2[:,i]\n",
    "    print('u{}={}' .format(i,column))\n",
    "    \n",
    "a=np.array(array2)\n",
    "print(\"\\n>Orthogonal basis :\")\n",
    "gram_Schmidt(a)\n",
    "for i in range(len(a[0])):\n",
    "    column = a[:,i]\n",
    "    print(f'u{i+1} = ',column)\n",
    "\n",
    "print(\"\\n>Orthonormal basis :\")\n",
    "normalize(a)\n",
    "for i in range(len(a[0])):\n",
    "    column = a[:,i]\n",
    "    print(f'v{i+1} = ',column)\n",
    "# --------------------------------QR----------------------------------------------:\n",
    "a=np.array(array2)  #reset array A\n",
    "Q=np.array(normalize(gram_Schmidt(np.array(a)))) #q is orthonormal column vectors\n",
    "R=np.zeros((len(a[0]),len(a[0]))) #define array r\n",
    "print(\"\\n>QR :\\nQ=\",Q)\n",
    "for i in range(len(a[0])):\n",
    "    for j in range(len(a[0])):\n",
    "        R[j][i]=np.dot(Q[:,j],a[:,i])\n",
    "print(\"\\nR=\",R)"
   ]
  },
  {
   "cell_type": "code",
   "execution_count": 8,
   "metadata": {},
   "outputs": [
    {
     "name": "stdout",
     "output_type": "stream",
     "text": [
      "A =\n",
      " [[-2.00000000e+00  1.00000000e+00]\n",
      " [ 2.00000000e+00 -8.00000000e+00]\n",
      " [ 1.00000000e+00 -2.22044605e-16]\n",
      " [ 0.00000000e+00  1.00000000e+00]]\n"
     ]
    }
   ],
   "source": [
    "print(\"A =\\n\",Q.dot(R))"
   ]
  }
 ],
 "metadata": {
  "kernelspec": {
   "display_name": "Python 3",
   "language": "python",
   "name": "python3"
  },
  "language_info": {
   "codemirror_mode": {
    "name": "ipython",
    "version": 3
   },
   "file_extension": ".py",
   "mimetype": "text/x-python",
   "name": "python",
   "nbconvert_exporter": "python",
   "pygments_lexer": "ipython3",
   "version": "3.8.5"
  }
 },
 "nbformat": 4,
 "nbformat_minor": 4
}
