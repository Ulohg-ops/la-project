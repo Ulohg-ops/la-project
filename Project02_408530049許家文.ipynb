{
 "cells": [
  {
   "cell_type": "code",
   "execution_count": 8,
   "metadata": {},
   "outputs": [],
   "source": [
    "import numpy as np\n",
    "def getMatrixDeternminant2(m):\n",
    "    #base case for 2x2 matrix\n",
    "    if len(m) == 2:\n",
    "        return m[0][0]*m[1][1]-m[0][1]*m[1][0]\n",
    "\n",
    "    determinant = 0\n",
    "    for c in range(len(m)):\n",
    "        determinant += ((-1)**c)*m[0][c]*getMatrixDeternminant2(getMatrixMinor2(m,0,c))\n",
    "    return determinant\n",
    "\n",
    "def getMatrixMinor2(arr,i,j):\n",
    "    # ith row, jth column removed\n",
    "    return arr[np.array(list(range(i))+list(range(i+1,arr.shape[0])))[:,np.newaxis],\n",
    "               np.array(list(range(j))+list(range(j+1,arr.shape[1])))]\n",
    "\n",
    "def getMatrixInverse2(m):\n",
    "    determinant = getMatrixDeternminant2(m)\n",
    "#     special case for 2x2 matrix:\n",
    "    if len(m) == 2:\n",
    "        return [[m[1][1]/determinant, -1*m[0][1]/determinant],\n",
    "                [-1*m[1][0]/determinant, m[0][0]/determinant]]\n",
    "\n",
    "#   find matrix of cofactors:\n",
    "    cofactors=np.zeros((len(m),len(m[0])), dtype=float)\n",
    "    for r in range(len(m)):\n",
    "        for c in range(len(m)):\n",
    "            minor = getMatrixMinor2(m,r,c)\n",
    "            cofactors[r][c]=(((-1)**(r+c)) * getMatrixDeternminant2(minor))\n",
    "#   transpose cofactor=>adj\n",
    "    checked=np.zeros((len(m),len(m[0])), dtype=int)\n",
    "    for i in range(len(m)):\n",
    "        for j in range(len(m)):\n",
    "            if(checked[i][j]==0 & i!=j):\n",
    "                temp=cofactors[i][j]\n",
    "                cofactors[i][j]=cofactors[j][i]\n",
    "                cofactors[j][i]=temp\n",
    "                checked[i][j]=1\n",
    "                checked[j][i]=1\n",
    "#   adj*det**(-1)\n",
    "    for r in range(len(cofactors)):\n",
    "        for c in range(len(cofactors)):\n",
    "            cofactors[r][c] = cofactors[r][c]/determinant\n",
    "\n",
    "    return cofactors"
   ]
  },
  {
   "cell_type": "code",
   "execution_count": 9,
   "metadata": {},
   "outputs": [
    {
     "name": "stdout",
     "output_type": "stream",
     "text": [
      ">Input matrix dimensions:\n",
      "4 4\n",
      "\n",
      ">Input matrix:\n",
      "2 2 5 3.5 \n",
      "-2 -2 5 12\n",
      "6 6 15 9\n",
      "4 3 2 1\n",
      "\n",
      ">InverseMatrix:\n",
      "[[-9.5         0.55        2.85        1.        ]\n",
      " [14.         -0.8        -4.26666667 -1.        ]\n",
      " [-3.          0.1         1.03333333 -0.        ]\n",
      " [ 2.          0.         -0.66666667  0.        ]]\n"
     ]
    }
   ],
   "source": [
    "print(\">Input matrix dimensions:\")\n",
    "a,b = map(int,input().split())\n",
    "print(\"\\n>Input matrix:\")\n",
    "list1=[]\n",
    "for i in range(a):\n",
    "    a = list(map(float,input().strip().split()))[:b]\n",
    "    list1.append(a)\n",
    "array= np.array(list1)\n",
    "print(\"\\n>InverseMatrix:\")\n",
    "print(getMatrixInverse2(array))"
   ]
  },
  {
   "cell_type": "code",
   "execution_count": 20,
   "metadata": {},
   "outputs": [
    {
     "name": "stdout",
     "output_type": "stream",
     "text": [
      "[[-0.  1.  1.]\n",
      " [ 5. -3. -1.]\n",
      " [-3.  2.  1.]]\n"
     ]
    }
   ],
   "source": [
    "# arr = np.array([[1,-1,-2],[2,-3,-5],[-1,3,5]])\n",
    "# arr2 = np.array([2,2,5,3.5],[-2,-2,5,12],[6,6,15,9],[4,3,2,1])\n",
    "# print(getMatrixInverse2(arr))\n",
    "# getMatrixDeternminant2(arr)\n",
    "# print(len(arr))\n",
    "# print(type(arr))\n",
    "# print(getMatrixInverse2(array))\n"
   ]
  }
 ],
 "metadata": {
  "kernelspec": {
   "display_name": "Python 3",
   "language": "python",
   "name": "python3"
  },
  "language_info": {
   "codemirror_mode": {
    "name": "ipython",
    "version": 3
   },
   "file_extension": ".py",
   "mimetype": "text/x-python",
   "name": "python",
   "nbconvert_exporter": "python",
   "pygments_lexer": "ipython3",
   "version": "3.8.5"
  }
 },
 "nbformat": 4,
 "nbformat_minor": 2
}
